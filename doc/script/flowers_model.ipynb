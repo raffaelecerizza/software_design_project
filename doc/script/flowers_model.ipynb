{
  "nbformat": 4,
  "nbformat_minor": 0,
  "metadata": {
    "colab": {
      "provenance": [],
      "gpuType": "T4"
    },
    "kernelspec": {
      "name": "python3",
      "display_name": "Python 3"
    },
    "language_info": {
      "name": "python"
    },
    "accelerator": "GPU"
  },
  "cells": [
    {
      "cell_type": "code",
      "execution_count": 1,
      "metadata": {
        "colab": {
          "base_uri": "https://localhost:8080/",
          "height": 1000
        },
        "id": "l25I_PyAUje9",
        "outputId": "91f1d8e2-a462-4b95-b9de-00700c1f48d7"
      },
      "outputs": [
        {
          "output_type": "stream",
          "name": "stdout",
          "text": [
            "Looking in indexes: https://pypi.org/simple, https://us-python.pkg.dev/colab-wheels/public/simple/\n",
            "Requirement already satisfied: pip in /usr/local/lib/python3.10/dist-packages (23.1.2)\n",
            "Looking in indexes: https://pypi.org/simple, https://us-python.pkg.dev/colab-wheels/public/simple/\n",
            "Collecting mediapipe-model-maker\n",
            "  Downloading mediapipe_model_maker-0.2.0-py3-none-any.whl (117 kB)\n",
            "\u001b[2K     \u001b[90m━━━━━━━━━━━━━━━━━━━━━━━━━━━━━━━━━━━━━━━\u001b[0m \u001b[32m117.5/117.5 kB\u001b[0m \u001b[31m9.7 MB/s\u001b[0m eta \u001b[36m0:00:00\u001b[0m\n",
            "\u001b[?25hRequirement already satisfied: absl-py in /usr/local/lib/python3.10/dist-packages (from mediapipe-model-maker) (1.4.0)\n",
            "Collecting mediapipe>=0.10.0 (from mediapipe-model-maker)\n",
            "  Downloading mediapipe-0.10.0-cp310-cp310-manylinux_2_17_x86_64.manylinux2014_x86_64.whl (33.9 MB)\n",
            "\u001b[2K     \u001b[90m━━━━━━━━━━━━━━━━━━━━━━━━━━━━━━━━━━━━━━━━\u001b[0m \u001b[32m33.9/33.9 MB\u001b[0m \u001b[31m48.1 MB/s\u001b[0m eta \u001b[36m0:00:00\u001b[0m\n",
            "\u001b[?25hRequirement already satisfied: numpy in /usr/local/lib/python3.10/dist-packages (from mediapipe-model-maker) (1.22.4)\n",
            "Requirement already satisfied: opencv-python in /usr/local/lib/python3.10/dist-packages (from mediapipe-model-maker) (4.7.0.72)\n",
            "Requirement already satisfied: tensorflow>=2.10 in /usr/local/lib/python3.10/dist-packages (from mediapipe-model-maker) (2.12.0)\n",
            "Requirement already satisfied: tensorflow-datasets in /usr/local/lib/python3.10/dist-packages (from mediapipe-model-maker) (4.9.2)\n",
            "Requirement already satisfied: tensorflow-hub in /usr/local/lib/python3.10/dist-packages (from mediapipe-model-maker) (0.13.0)\n",
            "Collecting tf-models-official==2.11.6 (from mediapipe-model-maker)\n",
            "  Downloading tf_models_official-2.11.6-py2.py3-none-any.whl (2.4 MB)\n",
            "\u001b[2K     \u001b[90m━━━━━━━━━━━━━━━━━━━━━━━━━━━━━━━━━━━━━━━━\u001b[0m \u001b[32m2.4/2.4 MB\u001b[0m \u001b[31m98.6 MB/s\u001b[0m eta \u001b[36m0:00:00\u001b[0m\n",
            "\u001b[?25hRequirement already satisfied: Cython in /usr/local/lib/python3.10/dist-packages (from tf-models-official==2.11.6->mediapipe-model-maker) (0.29.34)\n",
            "Requirement already satisfied: Pillow in /usr/local/lib/python3.10/dist-packages (from tf-models-official==2.11.6->mediapipe-model-maker) (8.4.0)\n",
            "Requirement already satisfied: gin-config in /usr/local/lib/python3.10/dist-packages (from tf-models-official==2.11.6->mediapipe-model-maker) (0.5.0)\n",
            "Requirement already satisfied: google-api-python-client>=1.6.7 in /usr/local/lib/python3.10/dist-packages (from tf-models-official==2.11.6->mediapipe-model-maker) (2.84.0)\n",
            "Collecting immutabledict (from tf-models-official==2.11.6->mediapipe-model-maker)\n",
            "  Downloading immutabledict-2.2.4-py3-none-any.whl (4.1 kB)\n",
            "Requirement already satisfied: kaggle>=1.3.9 in /usr/local/lib/python3.10/dist-packages (from tf-models-official==2.11.6->mediapipe-model-maker) (1.5.13)\n",
            "Requirement already satisfied: matplotlib in /usr/local/lib/python3.10/dist-packages (from tf-models-official==2.11.6->mediapipe-model-maker) (3.7.1)\n",
            "Requirement already satisfied: oauth2client in /usr/local/lib/python3.10/dist-packages (from tf-models-official==2.11.6->mediapipe-model-maker) (4.1.3)\n",
            "Requirement already satisfied: opencv-python-headless in /usr/local/lib/python3.10/dist-packages (from tf-models-official==2.11.6->mediapipe-model-maker) (4.7.0.72)\n",
            "Requirement already satisfied: pandas>=0.22.0 in /usr/local/lib/python3.10/dist-packages (from tf-models-official==2.11.6->mediapipe-model-maker) (1.5.3)\n",
            "Requirement already satisfied: psutil>=5.4.3 in /usr/local/lib/python3.10/dist-packages (from tf-models-official==2.11.6->mediapipe-model-maker) (5.9.5)\n",
            "Requirement already satisfied: py-cpuinfo>=3.3.0 in /usr/local/lib/python3.10/dist-packages (from tf-models-official==2.11.6->mediapipe-model-maker) (9.0.0)\n",
            "Requirement already satisfied: pycocotools in /usr/local/lib/python3.10/dist-packages (from tf-models-official==2.11.6->mediapipe-model-maker) (2.0.6)\n",
            "Collecting pyyaml<6.0,>=5.1 (from tf-models-official==2.11.6->mediapipe-model-maker)\n",
            "  Downloading PyYAML-5.4.1.tar.gz (175 kB)\n",
            "\u001b[2K     \u001b[90m━━━━━━━━━━━━━━━━━━━━━━━━━━━━━━━━━━━━━━\u001b[0m \u001b[32m175.1/175.1 kB\u001b[0m \u001b[31m22.2 MB/s\u001b[0m eta \u001b[36m0:00:00\u001b[0m\n",
            "\u001b[?25h  Installing build dependencies ... \u001b[?25l\u001b[?25hdone\n",
            "  Getting requirements to build wheel ... \u001b[?25l\u001b[?25hdone\n",
            "  Preparing metadata (pyproject.toml) ... \u001b[?25l\u001b[?25hdone\n",
            "Collecting sacrebleu (from tf-models-official==2.11.6->mediapipe-model-maker)\n",
            "  Downloading sacrebleu-2.3.1-py3-none-any.whl (118 kB)\n",
            "\u001b[2K     \u001b[90m━━━━━━━━━━━━━━━━━━━━━━━━━━━━━━━━━━━━━━\u001b[0m \u001b[32m118.9/118.9 kB\u001b[0m \u001b[31m15.8 MB/s\u001b[0m eta \u001b[36m0:00:00\u001b[0m\n",
            "\u001b[?25hRequirement already satisfied: scipy>=0.19.1 in /usr/local/lib/python3.10/dist-packages (from tf-models-official==2.11.6->mediapipe-model-maker) (1.10.1)\n",
            "Collecting sentencepiece (from tf-models-official==2.11.6->mediapipe-model-maker)\n",
            "  Downloading sentencepiece-0.1.99-cp310-cp310-manylinux_2_17_x86_64.manylinux2014_x86_64.whl (1.3 MB)\n",
            "\u001b[2K     \u001b[90m━━━━━━━━━━━━━━━━━━━━━━━━━━━━━━━━━━━━━━━━\u001b[0m \u001b[32m1.3/1.3 MB\u001b[0m \u001b[31m10.2 MB/s\u001b[0m eta \u001b[36m0:00:00\u001b[0m\n",
            "\u001b[?25hCollecting seqeval (from tf-models-official==2.11.6->mediapipe-model-maker)\n",
            "  Downloading seqeval-1.2.2.tar.gz (43 kB)\n",
            "\u001b[2K     \u001b[90m━━━━━━━━━━━━━━━━━━━━━━━━━━━━━━━━━━━━━━━━\u001b[0m \u001b[32m43.6/43.6 kB\u001b[0m \u001b[31m6.1 MB/s\u001b[0m eta \u001b[36m0:00:00\u001b[0m\n",
            "\u001b[?25h  Preparing metadata (setup.py) ... \u001b[?25l\u001b[?25hdone\n",
            "Requirement already satisfied: six in /usr/local/lib/python3.10/dist-packages (from tf-models-official==2.11.6->mediapipe-model-maker) (1.16.0)\n",
            "Collecting tensorflow-addons (from tf-models-official==2.11.6->mediapipe-model-maker)\n",
            "  Downloading tensorflow_addons-0.20.0-cp310-cp310-manylinux_2_17_x86_64.manylinux2014_x86_64.whl (591 kB)\n",
            "\u001b[2K     \u001b[90m━━━━━━━━━━━━━━━━━━━━━━━━━━━━━━━━━━━━━━\u001b[0m \u001b[32m591.0/591.0 kB\u001b[0m \u001b[31m54.4 MB/s\u001b[0m eta \u001b[36m0:00:00\u001b[0m\n",
            "\u001b[?25hCollecting tensorflow-model-optimization>=0.4.1 (from tf-models-official==2.11.6->mediapipe-model-maker)\n",
            "  Downloading tensorflow_model_optimization-0.7.5-py2.py3-none-any.whl (241 kB)\n",
            "\u001b[2K     \u001b[90m━━━━━━━━━━━━━━━━━━━━━━━━━━━━━━━━━━━━━━\u001b[0m \u001b[32m241.2/241.2 kB\u001b[0m \u001b[31m29.7 MB/s\u001b[0m eta \u001b[36m0:00:00\u001b[0m\n",
            "\u001b[?25hCollecting tensorflow-text~=2.11.0 (from tf-models-official==2.11.6->mediapipe-model-maker)\n",
            "  Downloading tensorflow_text-2.11.0-cp310-cp310-manylinux_2_17_x86_64.manylinux2014_x86_64.whl (5.8 MB)\n",
            "\u001b[2K     \u001b[90m━━━━━━━━━━━━━━━━━━━━━━━━━━━━━━━━━━━━━━━━\u001b[0m \u001b[32m5.8/5.8 MB\u001b[0m \u001b[31m101.1 MB/s\u001b[0m eta \u001b[36m0:00:00\u001b[0m\n",
            "\u001b[?25hCollecting tensorflow>=2.10 (from mediapipe-model-maker)\n",
            "  Downloading tensorflow-2.11.1-cp310-cp310-manylinux_2_17_x86_64.manylinux2014_x86_64.whl (588.3 MB)\n",
            "\u001b[2K     \u001b[90m━━━━━━━━━━━━━━━━━━━━━━━━━━━━━━━━━━━━━━━\u001b[0m \u001b[32m588.3/588.3 MB\u001b[0m \u001b[31m1.6 MB/s\u001b[0m eta \u001b[36m0:00:00\u001b[0m\n",
            "\u001b[?25hRequirement already satisfied: tf-slim>=1.1.0 in /usr/local/lib/python3.10/dist-packages (from tf-models-official==2.11.6->mediapipe-model-maker) (1.1.0)\n",
            "Requirement already satisfied: attrs>=19.1.0 in /usr/local/lib/python3.10/dist-packages (from mediapipe>=0.10.0->mediapipe-model-maker) (23.1.0)\n",
            "Requirement already satisfied: flatbuffers>=2.0 in /usr/local/lib/python3.10/dist-packages (from mediapipe>=0.10.0->mediapipe-model-maker) (23.3.3)\n",
            "Requirement already satisfied: opencv-contrib-python in /usr/local/lib/python3.10/dist-packages (from mediapipe>=0.10.0->mediapipe-model-maker) (4.7.0.72)\n",
            "Requirement already satisfied: protobuf<4,>=3.11 in /usr/local/lib/python3.10/dist-packages (from mediapipe>=0.10.0->mediapipe-model-maker) (3.20.3)\n",
            "Collecting sounddevice>=0.4.4 (from mediapipe>=0.10.0->mediapipe-model-maker)\n",
            "  Downloading sounddevice-0.4.6-py3-none-any.whl (31 kB)\n",
            "Requirement already satisfied: astunparse>=1.6.0 in /usr/local/lib/python3.10/dist-packages (from tensorflow>=2.10->mediapipe-model-maker) (1.6.3)\n",
            "Requirement already satisfied: gast<=0.4.0,>=0.2.1 in /usr/local/lib/python3.10/dist-packages (from tensorflow>=2.10->mediapipe-model-maker) (0.4.0)\n",
            "Requirement already satisfied: google-pasta>=0.1.1 in /usr/local/lib/python3.10/dist-packages (from tensorflow>=2.10->mediapipe-model-maker) (0.2.0)\n",
            "Requirement already satisfied: grpcio<2.0,>=1.24.3 in /usr/local/lib/python3.10/dist-packages (from tensorflow>=2.10->mediapipe-model-maker) (1.54.0)\n",
            "Requirement already satisfied: h5py>=2.9.0 in /usr/local/lib/python3.10/dist-packages (from tensorflow>=2.10->mediapipe-model-maker) (3.8.0)\n",
            "Collecting keras<2.12,>=2.11.0 (from tensorflow>=2.10->mediapipe-model-maker)\n",
            "  Downloading keras-2.11.0-py2.py3-none-any.whl (1.7 MB)\n",
            "\u001b[2K     \u001b[90m━━━━━━━━━━━━━━━━━━━━━━━━━━━━━━━━━━━━━━━━\u001b[0m \u001b[32m1.7/1.7 MB\u001b[0m \u001b[31m87.2 MB/s\u001b[0m eta \u001b[36m0:00:00\u001b[0m\n",
            "\u001b[?25hRequirement already satisfied: libclang>=13.0.0 in /usr/local/lib/python3.10/dist-packages (from tensorflow>=2.10->mediapipe-model-maker) (16.0.0)\n",
            "Requirement already satisfied: opt-einsum>=2.3.2 in /usr/local/lib/python3.10/dist-packages (from tensorflow>=2.10->mediapipe-model-maker) (3.3.0)\n",
            "Requirement already satisfied: packaging in /usr/local/lib/python3.10/dist-packages (from tensorflow>=2.10->mediapipe-model-maker) (23.1)\n",
            "Collecting protobuf<4,>=3.11 (from mediapipe>=0.10.0->mediapipe-model-maker)\n",
            "  Downloading protobuf-3.19.6-cp310-cp310-manylinux_2_17_x86_64.manylinux2014_x86_64.whl (1.1 MB)\n",
            "\u001b[2K     \u001b[90m━━━━━━━━━━━━━━━━━━━━━━━━━━━━━━━━━━━━━━━━\u001b[0m \u001b[32m1.1/1.1 MB\u001b[0m \u001b[31m49.7 MB/s\u001b[0m eta \u001b[36m0:00:00\u001b[0m\n",
            "\u001b[?25hRequirement already satisfied: setuptools in /usr/local/lib/python3.10/dist-packages (from tensorflow>=2.10->mediapipe-model-maker) (67.7.2)\n",
            "Collecting tensorboard<2.12,>=2.11 (from tensorflow>=2.10->mediapipe-model-maker)\n",
            "  Downloading tensorboard-2.11.2-py3-none-any.whl (6.0 MB)\n",
            "\u001b[2K     \u001b[90m━━━━━━━━━━━━━━━━━━━━━━━━━━━━━━━━━━━━━━━━\u001b[0m \u001b[32m6.0/6.0 MB\u001b[0m \u001b[31m82.2 MB/s\u001b[0m eta \u001b[36m0:00:00\u001b[0m\n",
            "\u001b[?25hCollecting tensorflow-estimator<2.12,>=2.11.0 (from tensorflow>=2.10->mediapipe-model-maker)\n",
            "  Downloading tensorflow_estimator-2.11.0-py2.py3-none-any.whl (439 kB)\n",
            "\u001b[2K     \u001b[90m━━━━━━━━━━━━━━━━━━━━━━━━━━━━━━━━━━━━━━\u001b[0m \u001b[32m439.2/439.2 kB\u001b[0m \u001b[31m30.8 MB/s\u001b[0m eta \u001b[36m0:00:00\u001b[0m\n",
            "\u001b[?25hRequirement already satisfied: termcolor>=1.1.0 in /usr/local/lib/python3.10/dist-packages (from tensorflow>=2.10->mediapipe-model-maker) (2.3.0)\n",
            "Requirement already satisfied: typing-extensions>=3.6.6 in /usr/local/lib/python3.10/dist-packages (from tensorflow>=2.10->mediapipe-model-maker) (4.5.0)\n",
            "Requirement already satisfied: wrapt>=1.11.0 in /usr/local/lib/python3.10/dist-packages (from tensorflow>=2.10->mediapipe-model-maker) (1.14.1)\n",
            "Requirement already satisfied: tensorflow-io-gcs-filesystem>=0.23.1 in /usr/local/lib/python3.10/dist-packages (from tensorflow>=2.10->mediapipe-model-maker) (0.32.0)\n",
            "Requirement already satisfied: array-record in /usr/local/lib/python3.10/dist-packages (from tensorflow-datasets->mediapipe-model-maker) (0.2.0)\n",
            "Requirement already satisfied: click in /usr/local/lib/python3.10/dist-packages (from tensorflow-datasets->mediapipe-model-maker) (8.1.3)\n",
            "Requirement already satisfied: dm-tree in /usr/local/lib/python3.10/dist-packages (from tensorflow-datasets->mediapipe-model-maker) (0.1.8)\n",
            "Requirement already satisfied: etils[enp,epath]>=0.9.0 in /usr/local/lib/python3.10/dist-packages (from tensorflow-datasets->mediapipe-model-maker) (1.2.0)\n",
            "Requirement already satisfied: promise in /usr/local/lib/python3.10/dist-packages (from tensorflow-datasets->mediapipe-model-maker) (2.3)\n",
            "INFO: pip is looking at multiple versions of tensorflow-datasets to determine which version is compatible with other requirements. This could take a while.\n",
            "Collecting tensorflow-datasets (from mediapipe-model-maker)\n",
            "  Downloading tensorflow_datasets-4.9.1-py3-none-any.whl (5.4 MB)\n",
            "\u001b[2K     \u001b[90m━━━━━━━━━━━━━━━━━━━━━━━━━━━━━━━━━━━━━━━━\u001b[0m \u001b[32m5.4/5.4 MB\u001b[0m \u001b[31m79.7 MB/s\u001b[0m eta \u001b[36m0:00:00\u001b[0m\n",
            "\u001b[?25h  Downloading tensorflow_datasets-4.9.0-py3-none-any.whl (5.4 MB)\n",
            "\u001b[2K     \u001b[90m━━━━━━━━━━━━━━━━━━━━━━━━━━━━━━━━━━━━━━━━\u001b[0m \u001b[32m5.4/5.4 MB\u001b[0m \u001b[31m67.8 MB/s\u001b[0m eta \u001b[36m0:00:00\u001b[0m\n",
            "\u001b[?25hRequirement already satisfied: requests>=2.19.0 in /usr/local/lib/python3.10/dist-packages (from tensorflow-datasets->mediapipe-model-maker) (2.27.1)\n",
            "Requirement already satisfied: tensorflow-metadata in /usr/local/lib/python3.10/dist-packages (from tensorflow-datasets->mediapipe-model-maker) (1.13.1)\n",
            "Requirement already satisfied: toml in /usr/local/lib/python3.10/dist-packages (from tensorflow-datasets->mediapipe-model-maker) (0.10.2)\n",
            "Requirement already satisfied: tqdm in /usr/local/lib/python3.10/dist-packages (from tensorflow-datasets->mediapipe-model-maker) (4.65.0)\n",
            "Requirement already satisfied: wheel<1.0,>=0.23.0 in /usr/local/lib/python3.10/dist-packages (from astunparse>=1.6.0->tensorflow>=2.10->mediapipe-model-maker) (0.40.0)\n",
            "Requirement already satisfied: importlib_resources in /usr/local/lib/python3.10/dist-packages (from etils[enp,epath]>=0.9.0->tensorflow-datasets->mediapipe-model-maker) (5.12.0)\n",
            "Requirement already satisfied: zipp in /usr/local/lib/python3.10/dist-packages (from etils[enp,epath]>=0.9.0->tensorflow-datasets->mediapipe-model-maker) (3.15.0)\n",
            "Requirement already satisfied: httplib2<1dev,>=0.15.0 in /usr/local/lib/python3.10/dist-packages (from google-api-python-client>=1.6.7->tf-models-official==2.11.6->mediapipe-model-maker) (0.21.0)\n",
            "Requirement already satisfied: google-auth<3.0.0dev,>=1.19.0 in /usr/local/lib/python3.10/dist-packages (from google-api-python-client>=1.6.7->tf-models-official==2.11.6->mediapipe-model-maker) (2.17.3)\n",
            "Requirement already satisfied: google-auth-httplib2>=0.1.0 in /usr/local/lib/python3.10/dist-packages (from google-api-python-client>=1.6.7->tf-models-official==2.11.6->mediapipe-model-maker) (0.1.0)\n",
            "Requirement already satisfied: google-api-core!=2.0.*,!=2.1.*,!=2.2.*,!=2.3.0,<3.0.0dev,>=1.31.5 in /usr/local/lib/python3.10/dist-packages (from google-api-python-client>=1.6.7->tf-models-official==2.11.6->mediapipe-model-maker) (2.11.0)\n",
            "Requirement already satisfied: uritemplate<5,>=3.0.1 in /usr/local/lib/python3.10/dist-packages (from google-api-python-client>=1.6.7->tf-models-official==2.11.6->mediapipe-model-maker) (4.1.1)\n",
            "Requirement already satisfied: certifi in /usr/local/lib/python3.10/dist-packages (from kaggle>=1.3.9->tf-models-official==2.11.6->mediapipe-model-maker) (2022.12.7)\n",
            "Requirement already satisfied: python-dateutil in /usr/local/lib/python3.10/dist-packages (from kaggle>=1.3.9->tf-models-official==2.11.6->mediapipe-model-maker) (2.8.2)\n",
            "Requirement already satisfied: python-slugify in /usr/local/lib/python3.10/dist-packages (from kaggle>=1.3.9->tf-models-official==2.11.6->mediapipe-model-maker) (8.0.1)\n",
            "Requirement already satisfied: urllib3 in /usr/local/lib/python3.10/dist-packages (from kaggle>=1.3.9->tf-models-official==2.11.6->mediapipe-model-maker) (1.26.15)\n",
            "Requirement already satisfied: pytz>=2020.1 in /usr/local/lib/python3.10/dist-packages (from pandas>=0.22.0->tf-models-official==2.11.6->mediapipe-model-maker) (2022.7.1)\n",
            "Requirement already satisfied: charset-normalizer~=2.0.0 in /usr/local/lib/python3.10/dist-packages (from requests>=2.19.0->tensorflow-datasets->mediapipe-model-maker) (2.0.12)\n",
            "Requirement already satisfied: idna<4,>=2.5 in /usr/local/lib/python3.10/dist-packages (from requests>=2.19.0->tensorflow-datasets->mediapipe-model-maker) (3.4)\n",
            "Requirement already satisfied: CFFI>=1.0 in /usr/local/lib/python3.10/dist-packages (from sounddevice>=0.4.4->mediapipe>=0.10.0->mediapipe-model-maker) (1.15.1)\n",
            "Collecting google-auth-oauthlib<0.5,>=0.4.1 (from tensorboard<2.12,>=2.11->tensorflow>=2.10->mediapipe-model-maker)\n",
            "  Downloading google_auth_oauthlib-0.4.6-py2.py3-none-any.whl (18 kB)\n",
            "Requirement already satisfied: markdown>=2.6.8 in /usr/local/lib/python3.10/dist-packages (from tensorboard<2.12,>=2.11->tensorflow>=2.10->mediapipe-model-maker) (3.4.3)\n",
            "Collecting tensorboard-data-server<0.7.0,>=0.6.0 (from tensorboard<2.12,>=2.11->tensorflow>=2.10->mediapipe-model-maker)\n",
            "  Downloading tensorboard_data_server-0.6.1-py3-none-manylinux2010_x86_64.whl (4.9 MB)\n",
            "\u001b[2K     \u001b[90m━━━━━━━━━━━━━━━━━━━━━━━━━━━━━━━━━━━━━━━━\u001b[0m \u001b[32m4.9/4.9 MB\u001b[0m \u001b[31m108.9 MB/s\u001b[0m eta \u001b[36m0:00:00\u001b[0m\n",
            "\u001b[?25hRequirement already satisfied: tensorboard-plugin-wit>=1.6.0 in /usr/local/lib/python3.10/dist-packages (from tensorboard<2.12,>=2.11->tensorflow>=2.10->mediapipe-model-maker) (1.8.1)\n",
            "Requirement already satisfied: werkzeug>=1.0.1 in /usr/local/lib/python3.10/dist-packages (from tensorboard<2.12,>=2.11->tensorflow>=2.10->mediapipe-model-maker) (2.3.0)\n",
            "Collecting numpy (from mediapipe-model-maker)\n",
            "  Downloading numpy-1.24.3-cp310-cp310-manylinux_2_17_x86_64.manylinux2014_x86_64.whl (17.3 MB)\n",
            "\u001b[2K     \u001b[90m━━━━━━━━━━━━━━━━━━━━━━━━━━━━━━━━━━━━━━━━\u001b[0m \u001b[32m17.3/17.3 MB\u001b[0m \u001b[31m84.9 MB/s\u001b[0m eta \u001b[36m0:00:00\u001b[0m\n",
            "\u001b[?25hRequirement already satisfied: contourpy>=1.0.1 in /usr/local/lib/python3.10/dist-packages (from matplotlib->tf-models-official==2.11.6->mediapipe-model-maker) (1.0.7)\n",
            "Requirement already satisfied: cycler>=0.10 in /usr/local/lib/python3.10/dist-packages (from matplotlib->tf-models-official==2.11.6->mediapipe-model-maker) (0.11.0)\n",
            "Requirement already satisfied: fonttools>=4.22.0 in /usr/local/lib/python3.10/dist-packages (from matplotlib->tf-models-official==2.11.6->mediapipe-model-maker) (4.39.3)\n",
            "Requirement already satisfied: kiwisolver>=1.0.1 in /usr/local/lib/python3.10/dist-packages (from matplotlib->tf-models-official==2.11.6->mediapipe-model-maker) (1.4.4)\n",
            "Requirement already satisfied: pyparsing>=2.3.1 in /usr/local/lib/python3.10/dist-packages (from matplotlib->tf-models-official==2.11.6->mediapipe-model-maker) (3.0.9)\n",
            "Requirement already satisfied: pyasn1>=0.1.7 in /usr/local/lib/python3.10/dist-packages (from oauth2client->tf-models-official==2.11.6->mediapipe-model-maker) (0.5.0)\n",
            "Requirement already satisfied: pyasn1-modules>=0.0.5 in /usr/local/lib/python3.10/dist-packages (from oauth2client->tf-models-official==2.11.6->mediapipe-model-maker) (0.3.0)\n",
            "Requirement already satisfied: rsa>=3.1.4 in /usr/local/lib/python3.10/dist-packages (from oauth2client->tf-models-official==2.11.6->mediapipe-model-maker) (4.9)\n",
            "Collecting portalocker (from sacrebleu->tf-models-official==2.11.6->mediapipe-model-maker)\n",
            "  Downloading portalocker-2.7.0-py2.py3-none-any.whl (15 kB)\n",
            "Requirement already satisfied: regex in /usr/local/lib/python3.10/dist-packages (from sacrebleu->tf-models-official==2.11.6->mediapipe-model-maker) (2022.10.31)\n",
            "Requirement already satisfied: tabulate>=0.8.9 in /usr/local/lib/python3.10/dist-packages (from sacrebleu->tf-models-official==2.11.6->mediapipe-model-maker) (0.8.10)\n",
            "Collecting colorama (from sacrebleu->tf-models-official==2.11.6->mediapipe-model-maker)\n",
            "  Downloading colorama-0.4.6-py2.py3-none-any.whl (25 kB)\n",
            "Requirement already satisfied: lxml in /usr/local/lib/python3.10/dist-packages (from sacrebleu->tf-models-official==2.11.6->mediapipe-model-maker) (4.9.2)\n",
            "Requirement already satisfied: scikit-learn>=0.21.3 in /usr/local/lib/python3.10/dist-packages (from seqeval->tf-models-official==2.11.6->mediapipe-model-maker) (1.2.2)\n",
            "Collecting typeguard<3.0.0,>=2.7 (from tensorflow-addons->tf-models-official==2.11.6->mediapipe-model-maker)\n",
            "  Downloading typeguard-2.13.3-py3-none-any.whl (17 kB)\n",
            "Requirement already satisfied: googleapis-common-protos<2,>=1.52.0 in /usr/local/lib/python3.10/dist-packages (from tensorflow-metadata->tensorflow-datasets->mediapipe-model-maker) (1.59.0)\n",
            "INFO: pip is looking at multiple versions of tensorflow-metadata to determine which version is compatible with other requirements. This could take a while.\n",
            "Collecting tensorflow-metadata (from tensorflow-datasets->mediapipe-model-maker)\n",
            "  Downloading tensorflow_metadata-1.13.0-py3-none-any.whl (53 kB)\n",
            "\u001b[2K     \u001b[90m━━━━━━━━━━━━━━━━━━━━━━━━━━━━━━━━━━━━━━━━\u001b[0m \u001b[32m53.3/53.3 kB\u001b[0m \u001b[31m5.1 MB/s\u001b[0m eta \u001b[36m0:00:00\u001b[0m\n",
            "\u001b[?25hRequirement already satisfied: pycparser in /usr/local/lib/python3.10/dist-packages (from CFFI>=1.0->sounddevice>=0.4.4->mediapipe>=0.10.0->mediapipe-model-maker) (2.21)\n",
            "Requirement already satisfied: cachetools<6.0,>=2.0.0 in /usr/local/lib/python3.10/dist-packages (from google-auth<3.0.0dev,>=1.19.0->google-api-python-client>=1.6.7->tf-models-official==2.11.6->mediapipe-model-maker) (5.3.0)\n",
            "Requirement already satisfied: requests-oauthlib>=0.7.0 in /usr/local/lib/python3.10/dist-packages (from google-auth-oauthlib<0.5,>=0.4.1->tensorboard<2.12,>=2.11->tensorflow>=2.10->mediapipe-model-maker) (1.3.1)\n",
            "Requirement already satisfied: joblib>=1.1.1 in /usr/local/lib/python3.10/dist-packages (from scikit-learn>=0.21.3->seqeval->tf-models-official==2.11.6->mediapipe-model-maker) (1.2.0)\n",
            "Requirement already satisfied: threadpoolctl>=2.0.0 in /usr/local/lib/python3.10/dist-packages (from scikit-learn>=0.21.3->seqeval->tf-models-official==2.11.6->mediapipe-model-maker) (3.1.0)\n",
            "Requirement already satisfied: MarkupSafe>=2.1.1 in /usr/local/lib/python3.10/dist-packages (from werkzeug>=1.0.1->tensorboard<2.12,>=2.11->tensorflow>=2.10->mediapipe-model-maker) (2.1.2)\n",
            "Requirement already satisfied: text-unidecode>=1.3 in /usr/local/lib/python3.10/dist-packages (from python-slugify->kaggle>=1.3.9->tf-models-official==2.11.6->mediapipe-model-maker) (1.3)\n",
            "Requirement already satisfied: oauthlib>=3.0.0 in /usr/local/lib/python3.10/dist-packages (from requests-oauthlib>=0.7.0->google-auth-oauthlib<0.5,>=0.4.1->tensorboard<2.12,>=2.11->tensorflow>=2.10->mediapipe-model-maker) (3.2.2)\n",
            "Building wheels for collected packages: pyyaml, seqeval\n",
            "  Building wheel for pyyaml (pyproject.toml) ... \u001b[?25l\u001b[?25hdone\n",
            "  Created wheel for pyyaml: filename=PyYAML-5.4.1-cp310-cp310-linux_x86_64.whl size=45658 sha256=351fb0a83e93c8e529934105bf9038386eab11fa57ff667e7bc2c60e0c83e310\n",
            "  Stored in directory: /root/.cache/pip/wheels/c7/0d/22/696ee92245ad710f506eee79bb05c740d8abccd3ecdb778683\n",
            "  Building wheel for seqeval (setup.py) ... \u001b[?25l\u001b[?25hdone\n",
            "  Created wheel for seqeval: filename=seqeval-1.2.2-py3-none-any.whl size=16165 sha256=1db9546abe22b79dfcad0971ae0641a63421d0fd1e4d0bc4a65fd03fdc7f916e\n",
            "  Stored in directory: /root/.cache/pip/wheels/1a/67/4a/ad4082dd7dfc30f2abfe4d80a2ed5926a506eb8a972b4767fa\n",
            "Successfully built pyyaml seqeval\n",
            "Installing collected packages: sentencepiece, typeguard, tensorflow-estimator, tensorboard-data-server, pyyaml, protobuf, portalocker, numpy, keras, immutabledict, colorama, tensorflow-model-optimization, tensorflow-addons, sounddevice, sacrebleu, tensorflow-metadata, google-auth-oauthlib, tensorflow-datasets, tensorboard, seqeval, mediapipe, tensorflow, tensorflow-text, tf-models-official, mediapipe-model-maker\n",
            "  Attempting uninstall: tensorflow-estimator\n",
            "    Found existing installation: tensorflow-estimator 2.12.0\n",
            "    Uninstalling tensorflow-estimator-2.12.0:\n",
            "      Successfully uninstalled tensorflow-estimator-2.12.0\n",
            "  Attempting uninstall: tensorboard-data-server\n",
            "    Found existing installation: tensorboard-data-server 0.7.0\n",
            "    Uninstalling tensorboard-data-server-0.7.0:\n",
            "      Successfully uninstalled tensorboard-data-server-0.7.0\n",
            "  Attempting uninstall: pyyaml\n",
            "    Found existing installation: PyYAML 6.0\n",
            "    Uninstalling PyYAML-6.0:\n",
            "      Successfully uninstalled PyYAML-6.0\n",
            "  Attempting uninstall: protobuf\n",
            "    Found existing installation: protobuf 3.20.3\n",
            "    Uninstalling protobuf-3.20.3:\n",
            "      Successfully uninstalled protobuf-3.20.3\n",
            "  Attempting uninstall: numpy\n",
            "    Found existing installation: numpy 1.22.4\n",
            "    Uninstalling numpy-1.22.4:\n",
            "      Successfully uninstalled numpy-1.22.4\n",
            "  Attempting uninstall: keras\n",
            "    Found existing installation: keras 2.12.0\n",
            "    Uninstalling keras-2.12.0:\n",
            "      Successfully uninstalled keras-2.12.0\n",
            "  Attempting uninstall: tensorflow-metadata\n",
            "    Found existing installation: tensorflow-metadata 1.13.1\n",
            "    Uninstalling tensorflow-metadata-1.13.1:\n",
            "      Successfully uninstalled tensorflow-metadata-1.13.1\n",
            "  Attempting uninstall: google-auth-oauthlib\n",
            "    Found existing installation: google-auth-oauthlib 1.0.0\n",
            "    Uninstalling google-auth-oauthlib-1.0.0:\n",
            "      Successfully uninstalled google-auth-oauthlib-1.0.0\n",
            "  Attempting uninstall: tensorflow-datasets\n",
            "    Found existing installation: tensorflow-datasets 4.9.2\n",
            "    Uninstalling tensorflow-datasets-4.9.2:\n",
            "      Successfully uninstalled tensorflow-datasets-4.9.2\n",
            "  Attempting uninstall: tensorboard\n",
            "    Found existing installation: tensorboard 2.12.2\n",
            "    Uninstalling tensorboard-2.12.2:\n",
            "      Successfully uninstalled tensorboard-2.12.2\n",
            "  Attempting uninstall: tensorflow\n",
            "    Found existing installation: tensorflow 2.12.0\n",
            "    Uninstalling tensorflow-2.12.0:\n",
            "      Successfully uninstalled tensorflow-2.12.0\n",
            "\u001b[31mERROR: pip's dependency resolver does not currently take into account all the packages that are installed. This behaviour is the source of the following dependency conflicts.\n",
            "numba 0.56.4 requires numpy<1.24,>=1.18, but you have numpy 1.24.3 which is incompatible.\u001b[0m\u001b[31m\n",
            "\u001b[0mSuccessfully installed colorama-0.4.6 google-auth-oauthlib-0.4.6 immutabledict-2.2.4 keras-2.11.0 mediapipe-0.10.0 mediapipe-model-maker-0.2.0 numpy-1.24.3 portalocker-2.7.0 protobuf-3.19.6 pyyaml-5.4.1 sacrebleu-2.3.1 sentencepiece-0.1.99 seqeval-1.2.2 sounddevice-0.4.6 tensorboard-2.11.2 tensorboard-data-server-0.6.1 tensorflow-2.11.1 tensorflow-addons-0.20.0 tensorflow-datasets-4.9.0 tensorflow-estimator-2.11.0 tensorflow-metadata-1.13.0 tensorflow-model-optimization-0.7.5 tensorflow-text-2.11.0 tf-models-official-2.11.6 typeguard-2.13.3\n"
          ]
        },
        {
          "output_type": "display_data",
          "data": {
            "application/vnd.colab-display-data+json": {
              "pip_warning": {
                "packages": [
                  "google",
                  "numpy"
                ]
              }
            }
          },
          "metadata": {}
        }
      ],
      "source": [
        "!pip install --upgrade pip\n",
        "!pip install mediapipe-model-maker"
      ]
    },
    {
      "cell_type": "code",
      "source": [
        "from google.colab import files\n",
        "from google.colab import drive\n",
        "import os\n",
        "import random\n",
        "import pathlib\n",
        "import numpy as np\n",
        "from numpy.random import seed\n",
        "from PIL import Image\n",
        "\n",
        "import tensorflow as tf\n",
        "assert tf.__version__.startswith('2')\n",
        "\n",
        "from mediapipe_model_maker import image_classifier\n",
        "\n",
        "import matplotlib.pyplot as plt"
      ],
      "metadata": {
        "colab": {
          "base_uri": "https://localhost:8080/"
        },
        "id": "pQmGwejyUoxx",
        "outputId": "d3adef09-3d26-4ff0-c773-d25bcebc5c76"
      },
      "execution_count": 2,
      "outputs": [
        {
          "output_type": "stream",
          "name": "stderr",
          "text": [
            "/usr/local/lib/python3.10/dist-packages/tensorflow_addons/utils/tfa_eol_msg.py:23: UserWarning: \n",
            "\n",
            "TensorFlow Addons (TFA) has ended development and introduction of new features.\n",
            "TFA has entered a minimal maintenance and release mode until a planned end of life in May 2024.\n",
            "Please modify downstream libraries to take dependencies from other repositories in our TensorFlow community (e.g. Keras, Keras-CV, and Keras-NLP). \n",
            "\n",
            "For more information see: https://github.com/tensorflow/addons/issues/2807 \n",
            "\n",
            "  warnings.warn(\n"
          ]
        }
      ]
    },
    {
      "cell_type": "code",
      "source": [
        "%%capture\n",
        "drive.mount('/content/gdrive', force_remount=True)\n",
        "!tar --extract --verbose --file='/content/gdrive/MyDrive/Oxford_102/train.tar'\n",
        "!tar --extract --verbose --file='/content/gdrive/MyDrive/Oxford_102/valid.tar'\n",
        "!tar --extract --verbose --file='/content/gdrive/MyDrive/Oxford_102/test.tar'"
      ],
      "metadata": {
        "id": "ISeDs5L3AAfL"
      },
      "execution_count": 3,
      "outputs": []
    },
    {
      "cell_type": "code",
      "source": [
        "def analyze_oxford_flowers_dataset(train_dir, valid_dir, test_dir):\n",
        "    train_counts = []\n",
        "    valid_counts = []\n",
        "    test_counts = []\n",
        "\n",
        "    for class_folder in os.listdir(train_dir):\n",
        "        class_path = os.path.join(train_dir, class_folder)\n",
        "        train_counts.append(len(os.listdir(class_path)))\n",
        "\n",
        "    for class_folder in os.listdir(valid_dir):\n",
        "        class_path = os.path.join(valid_dir, class_folder)\n",
        "        valid_counts.append(len(os.listdir(class_path)))\n",
        "\n",
        "    for class_folder in os.listdir(test_dir):\n",
        "        class_path = os.path.join(test_dir, class_folder)\n",
        "        test_counts.append(len(os.listdir(class_path)))\n",
        "\n",
        "    # Calcola il numero massimo di immagini in una classe per train, valid e test\n",
        "    max_train_count = max(train_counts)\n",
        "    max_valid_count = max(valid_counts)\n",
        "    max_test_count = max(test_counts)\n",
        "  \n",
        "    # Crea i grafici relativi al numero di immagini per classe\n",
        "    fig, axs = plt.subplots(3, figsize=(8, 12))\n",
        "\n",
        "    axs[0].bar(range(len(train_counts)), train_counts)\n",
        "    axs[0].set_title('Numero di immagini per classe (train)')\n",
        "    axs[0].set_xlabel('Classe')\n",
        "    axs[0].set_ylabel('Numero di immagini')\n",
        "\n",
        "    axs[1].bar(range(len(valid_counts)), valid_counts)\n",
        "    axs[1].set_title('Numero di immagini per classe (valid)')\n",
        "    axs[1].set_xlabel('Classe')\n",
        "    axs[1].set_ylabel('Numero di immagini')\n",
        "\n",
        "    axs[2].bar(range(len(test_counts)), test_counts)\n",
        "    axs[2].set_title('Numero di immagini per classe (test)')\n",
        "    axs[2].set_xlabel('Classe')\n",
        "    axs[2].set_ylabel('Numero di immagini')\n",
        "\n",
        "    plt.tight_layout()\n",
        "    plt.show()\n",
        "\n",
        "    # Stampa il numero massimo di immagini in una classe per train, valid e test\n",
        "    print(f\"Numero massimo di immagini in una classe (train): {max_train_count}\")\n",
        "    print(f\"Numero massimo di immagini in una classe (valid): {max_valid_count}\")\n",
        "    print(f\"Numero massimo di immagini in una classe (test): {max_test_count}\")"
      ],
      "metadata": {
        "id": "oW5MYMedCYnS"
      },
      "execution_count": 4,
      "outputs": []
    },
    {
      "cell_type": "code",
      "source": [
        "train_dir = 'train/'\n",
        "valid_dir = 'valid/'\n",
        "test_dir = 'test/'\n",
        "analyze_oxford_flowers_dataset(train_dir, valid_dir, test_dir)"
      ],
      "metadata": {
        "colab": {
          "base_uri": "https://localhost:8080/",
          "height": 1000
        },
        "id": "y34AV88pCZ5D",
        "outputId": "7fcaf1a3-ab5a-4062-f313-16d1dd0da891"
      },
      "execution_count": 5,
      "outputs": [
        {
          "output_type": "display_data",
          "data": {
            "text/plain": [
              "<Figure size 800x1200 with 3 Axes>"
            ],
            "image/png": "[encoded data removed]"
          },
          "metadata": {}
        },
        {
          "output_type": "stream",
          "name": "stdout",
          "text": [
            "Numero massimo di immagini in una classe (train): 206\n",
            "Numero massimo di immagini in una classe (valid): 28\n",
            "Numero massimo di immagini in una classe (test): 28\n"
          ]
        }
      ]
    },
    {
      "cell_type": "code",
      "source": [
        "train_data_dir = pathlib.Path('train/')\n",
        "val_data_dir = pathlib.Path('valid/')\n",
        "test_data_dir = pathlib.Path('test/')"
      ],
      "metadata": {
        "id": "53EoLaegAAcS"
      },
      "execution_count": 6,
      "outputs": []
    },
    {
      "cell_type": "code",
      "source": [
        "train_data = image_classifier.Dataset.from_folder(train_data_dir)\n",
        "val_data = image_classifier.Dataset.from_folder(val_data_dir)\n",
        "test_data = image_classifier.Dataset.from_folder(test_data_dir)"
      ],
      "metadata": {
        "colab": {
          "base_uri": "https://localhost:8080/"
        },
        "id": "wJ_-AOEMAAY6",
        "outputId": "b68740db-eaf1-406d-d384-8d6869f8bee1"
      },
      "execution_count": 7,
      "outputs": [
        {
          "output_type": "stream",
          "name": "stderr",
          "text": [
            "WARNING:tensorflow:From /usr/local/lib/python3.10/dist-packages/tensorflow/python/autograph/pyct/static_analysis/liveness.py:83: Analyzer.lamba_check (from tensorflow.python.autograph.pyct.static_analysis.liveness) is deprecated and will be removed after 2023-09-23.\n",
            "Instructions for updating:\n",
            "Lambda fuctions will be no more assumed to be used in the statement where they are used, or at least in the same block. https://github.com/tensorflow/tensorflow/issues/56089\n"
          ]
        }
      ]
    },
    {
      "cell_type": "code",
      "source": [
        "spec = image_classifier.SupportedModels.EFFICIENTNET_LITE0\n",
        "hparams = image_classifier.HParams(export_dir=\"exported_model\", epochs=50, batch_size=16)\n",
        "options = image_classifier.ImageClassifierOptions(supported_model=spec, hparams=hparams)"
      ],
      "metadata": {
        "id": "H_bBRJ_H6vON"
      },
      "execution_count": 8,
      "outputs": []
    },
    {
      "cell_type": "code",
      "source": [
        "model = image_classifier.ImageClassifier.create(\n",
        "    train_data = train_data,\n",
        "    validation_data = val_data,\n",
        "    options=options,\n",
        ")"
      ],
      "metadata": {
        "colab": {
          "base_uri": "https://localhost:8080/"
        },
        "id": "Q8uCHkgg6vLt",
        "outputId": "e267a257-a977-4267-def4-44c652bb8eb4"
      },
      "execution_count": 9,
      "outputs": [
        {
          "output_type": "stream",
          "name": "stderr",
          "text": [
            "WARNING:tensorflow:`period` argument is deprecated. Please use `save_freq` to specify the frequency in number of batches seen.\n"
          ]
        },
        {
          "output_type": "stream",
          "name": "stdout",
          "text": [
            "Model: \"sequential\"\n",
            "_________________________________________________________________\n",
            " Layer (type)                Output Shape              Param #   \n",
            "=================================================================\n",
            " keras_layer (KerasLayer)    (None, 1280)              3413024   \n",
            "                                                                 \n",
            " dropout (Dropout)           (None, 1280)              0         \n",
            "                                                                 \n",
            " dense (Dense)               (None, 102)               130662    \n",
            "                                                                 \n",
            "=================================================================\n",
            "Total params: 3,543,686\n",
            "Trainable params: 130,662\n",
            "Non-trainable params: 3,413,024\n",
            "_________________________________________________________________\n",
            "None\n",
            "Epoch 1/50\n",
            "1306/1306 [==============================] - 96s 64ms/step - loss: 4.4768 - accuracy: 0.0747 - val_loss: 3.7495 - val_accuracy: 0.3460\n",
            "Epoch 2/50\n",
            "1306/1306 [==============================] - 77s 59ms/step - loss: 3.0663 - accuracy: 0.5132 - val_loss: 2.3092 - val_accuracy: 0.7628\n",
            "Epoch 3/50\n",
            "1306/1306 [==============================] - 81s 62ms/step - loss: 2.1292 - accuracy: 0.7317 - val_loss: 1.7630 - val_accuracy: 0.8374\n",
            "Epoch 4/50\n",
            "1306/1306 [==============================] - 79s 60ms/step - loss: 1.8320 - accuracy: 0.7876 - val_loss: 1.5773 - val_accuracy: 0.8778\n",
            "Epoch 5/50\n",
            "1306/1306 [==============================] - 77s 59ms/step - loss: 1.6962 - accuracy: 0.8170 - val_loss: 1.4849 - val_accuracy: 0.8875\n",
            "Epoch 6/50\n",
            "1306/1306 [==============================] - 82s 62ms/step - loss: 1.6237 - accuracy: 0.8336 - val_loss: 1.4288 - val_accuracy: 0.8998\n",
            "Epoch 7/50\n",
            "1306/1306 [==============================] - 76s 58ms/step - loss: 1.5771 - accuracy: 0.8445 - val_loss: 1.4016 - val_accuracy: 0.9010\n",
            "Epoch 8/50\n",
            "1306/1306 [==============================] - 83s 64ms/step - loss: 1.5550 - accuracy: 0.8532 - val_loss: 1.3736 - val_accuracy: 0.9132\n",
            "Epoch 9/50\n",
            "1306/1306 [==============================] - 80s 61ms/step - loss: 1.5264 - accuracy: 0.8619 - val_loss: 1.3607 - val_accuracy: 0.9230\n",
            "Epoch 10/50\n",
            "1306/1306 [==============================] - 79s 60ms/step - loss: 1.5086 - accuracy: 0.8647 - val_loss: 1.3437 - val_accuracy: 0.9291\n",
            "Epoch 11/50\n",
            "1306/1306 [==============================] - 84s 64ms/step - loss: 1.4990 - accuracy: 0.8705 - val_loss: 1.3351 - val_accuracy: 0.9340\n",
            "Epoch 12/50\n",
            "1306/1306 [==============================] - 78s 60ms/step - loss: 1.4811 - accuracy: 0.8748 - val_loss: 1.3293 - val_accuracy: 0.9315\n",
            "Epoch 13/50\n",
            "1306/1306 [==============================] - 81s 62ms/step - loss: 1.4772 - accuracy: 0.8798 - val_loss: 1.3240 - val_accuracy: 0.9352\n",
            "Epoch 14/50\n",
            "1306/1306 [==============================] - 84s 64ms/step - loss: 1.4618 - accuracy: 0.8854 - val_loss: 1.3172 - val_accuracy: 0.9389\n",
            "Epoch 15/50\n",
            "1306/1306 [==============================] - 78s 60ms/step - loss: 1.4577 - accuracy: 0.8876 - val_loss: 1.3185 - val_accuracy: 0.9352\n",
            "Epoch 16/50\n",
            "1306/1306 [==============================] - 79s 61ms/step - loss: 1.4553 - accuracy: 0.8891 - val_loss: 1.3156 - val_accuracy: 0.9377\n",
            "Epoch 17/50\n",
            "1306/1306 [==============================] - 82s 63ms/step - loss: 1.4491 - accuracy: 0.8884 - val_loss: 1.3118 - val_accuracy: 0.9377\n",
            "Epoch 18/50\n",
            "1306/1306 [==============================] - 77s 59ms/step - loss: 1.4446 - accuracy: 0.8941 - val_loss: 1.3136 - val_accuracy: 0.9389\n",
            "Epoch 19/50\n",
            "1306/1306 [==============================] - 82s 63ms/step - loss: 1.4482 - accuracy: 0.8945 - val_loss: 1.3146 - val_accuracy: 0.9389\n",
            "Epoch 20/50\n",
            "1306/1306 [==============================] - 77s 59ms/step - loss: 1.4471 - accuracy: 0.8929 - val_loss: 1.3136 - val_accuracy: 0.9389\n",
            "Epoch 21/50\n",
            "1306/1306 [==============================] - 82s 63ms/step - loss: 1.4441 - accuracy: 0.8954 - val_loss: 1.3128 - val_accuracy: 0.9413\n",
            "Epoch 22/50\n",
            "1306/1306 [==============================] - 76s 58ms/step - loss: 1.4443 - accuracy: 0.8965 - val_loss: 1.3188 - val_accuracy: 0.9425\n",
            "Epoch 23/50\n",
            "1306/1306 [==============================] - 74s 57ms/step - loss: 1.4378 - accuracy: 0.9001 - val_loss: 1.3205 - val_accuracy: 0.9401\n",
            "Epoch 24/50\n",
            "1306/1306 [==============================] - 80s 61ms/step - loss: 1.4427 - accuracy: 0.9015 - val_loss: 1.3200 - val_accuracy: 0.9389\n",
            "Epoch 25/50\n",
            "1306/1306 [==============================] - 76s 58ms/step - loss: 1.4476 - accuracy: 0.9001 - val_loss: 1.3208 - val_accuracy: 0.9450\n",
            "Epoch 26/50\n",
            "1306/1306 [==============================] - 80s 61ms/step - loss: 1.4432 - accuracy: 0.9032 - val_loss: 1.3244 - val_accuracy: 0.9389\n",
            "Epoch 27/50\n",
            "1306/1306 [==============================] - 76s 58ms/step - loss: 1.4499 - accuracy: 0.9009 - val_loss: 1.3237 - val_accuracy: 0.9413\n",
            "Epoch 28/50\n",
            "1306/1306 [==============================] - 81s 62ms/step - loss: 1.4497 - accuracy: 0.9042 - val_loss: 1.3281 - val_accuracy: 0.9401\n",
            "Epoch 29/50\n",
            "1306/1306 [==============================] - 77s 59ms/step - loss: 1.4512 - accuracy: 0.9034 - val_loss: 1.3292 - val_accuracy: 0.9389\n",
            "Epoch 30/50\n",
            "1306/1306 [==============================] - 83s 64ms/step - loss: 1.4490 - accuracy: 0.9046 - val_loss: 1.3343 - val_accuracy: 0.9413\n",
            "Epoch 31/50\n",
            "1306/1306 [==============================] - 80s 61ms/step - loss: 1.4501 - accuracy: 0.9086 - val_loss: 1.3349 - val_accuracy: 0.9425\n",
            "Epoch 32/50\n",
            "1306/1306 [==============================] - 75s 57ms/step - loss: 1.4434 - accuracy: 0.9079 - val_loss: 1.3385 - val_accuracy: 0.9438\n",
            "Epoch 33/50\n",
            "1306/1306 [==============================] - 83s 63ms/step - loss: 1.4516 - accuracy: 0.9094 - val_loss: 1.3405 - val_accuracy: 0.9389\n",
            "Epoch 34/50\n",
            "1306/1306 [==============================] - 79s 60ms/step - loss: 1.4536 - accuracy: 0.9119 - val_loss: 1.3416 - val_accuracy: 0.9401\n",
            "Epoch 35/50\n",
            "1306/1306 [==============================] - 81s 62ms/step - loss: 1.4643 - accuracy: 0.9059 - val_loss: 1.3450 - val_accuracy: 0.9450\n",
            "Epoch 36/50\n",
            "1306/1306 [==============================] - 84s 64ms/step - loss: 1.4635 - accuracy: 0.9102 - val_loss: 1.3490 - val_accuracy: 0.9401\n",
            "Epoch 37/50\n",
            "1306/1306 [==============================] - 79s 60ms/step - loss: 1.4688 - accuracy: 0.9125 - val_loss: 1.3499 - val_accuracy: 0.9425\n",
            "Epoch 38/50\n",
            "1306/1306 [==============================] - 81s 62ms/step - loss: 1.4721 - accuracy: 0.9084 - val_loss: 1.3563 - val_accuracy: 0.9413\n",
            "Epoch 39/50\n",
            "1306/1306 [==============================] - 80s 61ms/step - loss: 1.4726 - accuracy: 0.9090 - val_loss: 1.3591 - val_accuracy: 0.9438\n",
            "Epoch 40/50\n",
            "1306/1306 [==============================] - 79s 60ms/step - loss: 1.4687 - accuracy: 0.9111 - val_loss: 1.3622 - val_accuracy: 0.9425\n",
            "Epoch 41/50\n",
            "1306/1306 [==============================] - 82s 63ms/step - loss: 1.4730 - accuracy: 0.9131 - val_loss: 1.3645 - val_accuracy: 0.9425\n",
            "Epoch 42/50\n",
            "1306/1306 [==============================] - 76s 58ms/step - loss: 1.4735 - accuracy: 0.9129 - val_loss: 1.3682 - val_accuracy: 0.9401\n",
            "Epoch 43/50\n",
            "1306/1306 [==============================] - 81s 62ms/step - loss: 1.4789 - accuracy: 0.9127 - val_loss: 1.3712 - val_accuracy: 0.9425\n",
            "Epoch 44/50\n",
            "1306/1306 [==============================] - 76s 59ms/step - loss: 1.4797 - accuracy: 0.9146 - val_loss: 1.3771 - val_accuracy: 0.9401\n",
            "Epoch 45/50\n",
            "1306/1306 [==============================] - 83s 64ms/step - loss: 1.4872 - accuracy: 0.9105 - val_loss: 1.3778 - val_accuracy: 0.9450\n",
            "Epoch 46/50\n",
            "1306/1306 [==============================] - 79s 60ms/step - loss: 1.4904 - accuracy: 0.9133 - val_loss: 1.3814 - val_accuracy: 0.9438\n",
            "Epoch 47/50\n",
            "1306/1306 [==============================] - 79s 60ms/step - loss: 1.4860 - accuracy: 0.9150 - val_loss: 1.3838 - val_accuracy: 0.9450\n",
            "Epoch 48/50\n",
            "1306/1306 [==============================] - 80s 61ms/step - loss: 1.4914 - accuracy: 0.9137 - val_loss: 1.3898 - val_accuracy: 0.9425\n",
            "Epoch 49/50\n",
            "1306/1306 [==============================] - 76s 58ms/step - loss: 1.5008 - accuracy: 0.9140 - val_loss: 1.3920 - val_accuracy: 0.9413\n",
            "Epoch 50/50\n",
            "1306/1306 [==============================] - 82s 63ms/step - loss: 1.4945 - accuracy: 0.9150 - val_loss: 1.3965 - val_accuracy: 0.9425\n"
          ]
        }
      ]
    },
    {
      "cell_type": "code",
      "source": [
        "model.export_model()"
      ],
      "metadata": {
        "id": "8aMbrOVS6vJO"
      },
      "execution_count": 10,
      "outputs": []
    },
    {
      "cell_type": "code",
      "source": [
        "!ls exported_model\n",
        "files.download('exported_model/model.tflite')"
      ],
      "metadata": {
        "colab": {
          "base_uri": "https://localhost:8080/",
          "height": 35
        },
        "id": "V78hTXU56vGp",
        "outputId": "9b1faee8-ad81-474a-ac3f-f1a9d1ac3781"
      },
      "execution_count": 11,
      "outputs": [
        {
          "output_type": "stream",
          "name": "stdout",
          "text": [
            "checkpoint  metadata.json  model.tflite  summaries\n"
          ]
        },
        {
          "output_type": "display_data",
          "data": {
            "text/plain": [
              "<IPython.core.display.Javascript object>"
            ],
            "application/javascript": [
              "\n",
              "    async function download(id, filename, size) {\n",
              "      if (!google.colab.kernel.accessAllowed) {\n",
              "        return;\n",
              "      }\n",
              "      const div = document.createElement('div');\n",
              "      const label = document.createElement('label');\n",
              "      label.textContent = `Downloading \"${filename}\": `;\n",
              "      div.appendChild(label);\n",
              "      const progress = document.createElement('progress');\n",
              "      progress.max = size;\n",
              "      div.appendChild(progress);\n",
              "      document.body.appendChild(div);\n",
              "\n",
              "      const buffers = [];\n",
              "      let downloaded = 0;\n",
              "\n",
              "      const channel = await google.colab.kernel.comms.open(id);\n",
              "      // Send a message to notify the kernel that we're ready.\n",
              "      channel.send({})\n",
              "\n",
              "      for await (const message of channel.messages) {\n",
              "        // Send a message to notify the kernel that we're ready.\n",
              "        channel.send({})\n",
              "        if (message.buffers) {\n",
              "          for (const buffer of message.buffers) {\n",
              "            buffers.push(buffer);\n",
              "            downloaded += buffer.byteLength;\n",
              "            progress.value = downloaded;\n",
              "          }\n",
              "        }\n",
              "      }\n",
              "      const blob = new Blob(buffers, {type: 'application/binary'});\n",
              "      const a = document.createElement('a');\n",
              "      a.href = window.URL.createObjectURL(blob);\n",
              "      a.download = filename;\n",
              "      div.appendChild(a);\n",
              "      a.click();\n",
              "      div.remove();\n",
              "    }\n",
              "  "
            ]
          },
          "metadata": {}
        },
        {
          "output_type": "display_data",
          "data": {
            "text/plain": [
              "<IPython.core.display.Javascript object>"
            ],
            "application/javascript": [
              "download(\"download_af3bad9f-51e5-450c-9ecd-29ebe049ddc3\", \"model.tflite\", 13959929)"
            ]
          },
          "metadata": {}
        }
      ]
    },
    {
      "cell_type": "code",
      "source": [
        "_, acc = model.evaluate(test_data)\n",
        "print('Test accuracy: %f' % acc)"
      ],
      "metadata": {
        "id": "4WTQwF1P6vD-",
        "colab": {
          "base_uri": "https://localhost:8080/"
        },
        "outputId": "5fc88092-d358-4750-9969-38ea1186b4cb"
      },
      "execution_count": 12,
      "outputs": [
        {
          "output_type": "stream",
          "name": "stdout",
          "text": [
            "26/26 [==============================] - 4s 121ms/step - loss: 1.4084 - accuracy: 0.9426\n",
            "Test accuracy: 0.942613\n"
          ]
        }
      ]
    },
    {
      "cell_type": "code",
      "source": [],
      "metadata": {
        "id": "OGFkBPn26vBc"
      },
      "execution_count": 12,
      "outputs": []
    },
    {
      "cell_type": "code",
      "source": [],
      "metadata": {
        "id": "hOEehF6N6u-9"
      },
      "execution_count": 12,
      "outputs": []
    },
    {
      "cell_type": "code",
      "source": [],
      "metadata": {
        "id": "aWaj6stB6u79"
      },
      "execution_count": 12,
      "outputs": []
    }
  ]
}